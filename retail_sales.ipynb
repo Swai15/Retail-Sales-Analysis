{
 "cells": [
  {
   "cell_type": "code",
   "execution_count": 15,
   "metadata": {},
   "outputs": [
    {
     "name": "stdout",
     "output_type": "stream",
     "text": [
      "Requirement already satisfied: pandas in c:\\users\\swais\\appdata\\local\\programs\\python\\python313\\lib\\site-packages (2.2.3)Note: you may need to restart the kernel to use updated packages.\n",
      "\n",
      "Requirement already satisfied: numpy>=1.26.0 in c:\\users\\swais\\appdata\\local\\programs\\python\\python313\\lib\\site-packages (from pandas) (2.2.2)\n",
      "Requirement already satisfied: python-dateutil>=2.8.2 in c:\\users\\swais\\appdata\\local\\programs\\python\\python313\\lib\\site-packages (from pandas) (2.9.0.post0)\n",
      "Requirement already satisfied: pytz>=2020.1 in c:\\users\\swais\\appdata\\local\\programs\\python\\python313\\lib\\site-packages (from pandas) (2024.2)\n",
      "Requirement already satisfied: tzdata>=2022.7 in c:\\users\\swais\\appdata\\local\\programs\\python\\python313\\lib\\site-packages (from pandas) (2025.1)\n",
      "Requirement already satisfied: six>=1.5 in c:\\users\\swais\\appdata\\local\\programs\\python\\python313\\lib\\site-packages (from python-dateutil>=2.8.2->pandas) (1.17.0)\n"
     ]
    }
   ],
   "source": [
    "%pip install pandas\n"
   ]
  },
  {
   "cell_type": "code",
   "execution_count": 4,
   "metadata": {},
   "outputs": [],
   "source": [
    "import pandas as pd"
   ]
  },
  {
   "cell_type": "code",
   "execution_count": 18,
   "metadata": {},
   "outputs": [
    {
     "name": "stdout",
     "output_type": "stream",
     "text": [
      "    Transaction ID        Date Customer ID  Gender  Age Product Category  Quantity  Price per Unit  Total Amount\n",
      "0                1  2023-11-24     CUST001    Male   34           Beauty         3              50           150\n",
      "1                2  2023-02-27     CUST002  Female   26         Clothing         2             500          1000\n",
      "2                3  2023-01-13     CUST003    Male   50      Electronics         1              30            30\n",
      "3                4  2023-05-21     CUST004    Male   37         Clothing         1             500           500\n",
      "4                5  2023-05-06     CUST005    Male   30           Beauty         2              50           100\n",
      "5                6  2023-04-25     CUST006  Female   45           Beauty         1              30            30\n",
      "6                7  2023-03-13     CUST007    Male   46         Clothing         2              25            50\n",
      "7                8  2023-02-22     CUST008    Male   30      Electronics         4              25           100\n",
      "8                9  2023-12-13     CUST009    Male   63      Electronics         2             300           600\n",
      "9               10  2023-10-07     CUST010  Female   52         Clothing         4              50           200\n",
      "10              11  2023-02-14     CUST011    Male   23         Clothing         2              50           100\n",
      "11              12  2023-10-30     CUST012    Male   35           Beauty         3              25            75\n",
      "12              13  2023-08-05     CUST013    Male   22      Electronics         3             500          1500\n",
      "13              14  2023-01-17     CUST014    Male   64         Clothing         4              30           120\n",
      "14              15  2023-01-16     CUST015  Female   42      Electronics         4             500          2000\n",
      "15              16  2023-02-17     CUST016    Male   19         Clothing         3             500          1500\n",
      "16              17  2023-04-22     CUST017  Female   27         Clothing         4              25           100\n",
      "17              18  2023-04-30     CUST018  Female   47      Electronics         2              25            50\n",
      "18              19  2023-09-16     CUST019  Female   62         Clothing         2              25            50\n",
      "19              20  2023-11-05     CUST020    Male   22         Clothing         3             300           900\n",
      "<class 'pandas.core.frame.DataFrame'>\n",
      "RangeIndex: 1000 entries, 0 to 999\n",
      "Data columns (total 9 columns):\n",
      " #   Column            Non-Null Count  Dtype \n",
      "---  ------            --------------  ----- \n",
      " 0   Transaction ID    1000 non-null   int64 \n",
      " 1   Date              1000 non-null   object\n",
      " 2   Customer ID       1000 non-null   object\n",
      " 3   Gender            1000 non-null   object\n",
      " 4   Age               1000 non-null   int64 \n",
      " 5   Product Category  1000 non-null   object\n",
      " 6   Quantity          1000 non-null   int64 \n",
      " 7   Price per Unit    1000 non-null   int64 \n",
      " 8   Total Amount      1000 non-null   int64 \n",
      "dtypes: int64(5), object(4)\n",
      "memory usage: 70.4+ KB\n"
     ]
    }
   ],
   "source": [
    "pd.set_option(\"display.width\", 1000)  #Prevent column wrapping\n",
    "df = pd.read_csv(\"retail_sales_dataset.csv\")\n",
    "print(df.head(20))"
   ]
  },
  {
   "cell_type": "code",
   "execution_count": 19,
   "metadata": {},
   "outputs": [
    {
     "name": "stdout",
     "output_type": "stream",
     "text": [
      "<class 'pandas.core.frame.DataFrame'>\n",
      "RangeIndex: 1000 entries, 0 to 999\n",
      "Data columns (total 9 columns):\n",
      " #   Column            Non-Null Count  Dtype \n",
      "---  ------            --------------  ----- \n",
      " 0   Transaction ID    1000 non-null   int64 \n",
      " 1   Date              1000 non-null   object\n",
      " 2   Customer ID       1000 non-null   object\n",
      " 3   Gender            1000 non-null   object\n",
      " 4   Age               1000 non-null   int64 \n",
      " 5   Product Category  1000 non-null   object\n",
      " 6   Quantity          1000 non-null   int64 \n",
      " 7   Price per Unit    1000 non-null   int64 \n",
      " 8   Total Amount      1000 non-null   int64 \n",
      "dtypes: int64(5), object(4)\n",
      "memory usage: 70.4+ KB\n"
     ]
    }
   ],
   "source": [
    "df.info()"
   ]
  },
  {
   "cell_type": "markdown",
   "metadata": {},
   "source": [
    "Transform the column names to lower and remove spacing"
   ]
  },
  {
   "cell_type": "code",
   "execution_count": 6,
   "metadata": {},
   "outputs": [
    {
     "name": "stdout",
     "output_type": "stream",
     "text": [
      "Index(['transaction_id', 'date', 'customer_id', 'gender', 'age', 'product_category', 'quantity', 'price_per_unit', 'total_amount'], dtype='object')\n"
     ]
    }
   ],
   "source": [
    "df.columns = df.columns.str.lower().str.replace(' ', '_')\n",
    "print(df.columns)"
   ]
  },
  {
   "cell_type": "code",
   "execution_count": 7,
   "metadata": {},
   "outputs": [
    {
     "name": "stdout",
     "output_type": "stream",
     "text": [
      "<class 'pandas.core.frame.DataFrame'>\n",
      "RangeIndex: 1000 entries, 0 to 999\n",
      "Data columns (total 9 columns):\n",
      " #   Column            Non-Null Count  Dtype         \n",
      "---  ------            --------------  -----         \n",
      " 0   transaction_id    1000 non-null   int64         \n",
      " 1   date              1000 non-null   datetime64[ns]\n",
      " 2   customer_id       1000 non-null   string        \n",
      " 3   gender            1000 non-null   object        \n",
      " 4   age               1000 non-null   int64         \n",
      " 5   product_category  1000 non-null   object        \n",
      " 6   quantity          1000 non-null   int64         \n",
      " 7   price_per_unit    1000 non-null   int64         \n",
      " 8   total_amount      1000 non-null   int64         \n",
      "dtypes: datetime64[ns](1), int64(5), object(2), string(1)\n",
      "memory usage: 70.4+ KB\n"
     ]
    }
   ],
   "source": [
    "df['date'] = pd.to_datetime(df['date'])\n",
    "df['customer_id'] = df['customer_id'].astype('string')\n",
    "df['gender'] = df['gender'].str.capitalize()\n",
    "df['product_category']\n",
    "df = df[df['quantity'] > 0  & (df['price_per_unit'] > 0)]\n",
    "df['calculated_total'] = df['quantity'] * df['price_per_unit']\n",
    "df = df[df['total_amount'] == df['calculated_total']]\n",
    "df.drop('calculated_total', axis=1, inplace=True)\n",
    "df.info()"
   ]
  },
  {
   "cell_type": "code",
   "execution_count": 8,
   "metadata": {},
   "outputs": [
    {
     "name": "stdout",
     "output_type": "stream",
     "text": [
      "Nulls: \n",
      "transaction_id      0\n",
      "date                0\n",
      "customer_id         0\n",
      "gender              0\n",
      "age                 0\n",
      "product_category    0\n",
      "quantity            0\n",
      "price_per_unit      0\n",
      "total_amount        0\n",
      "dtype: int64\n",
      "\n",
      "Duplicates: \n",
      "0\n",
      "gender\n",
      "Female    510\n",
      "Male      490\n",
      "Name: count, dtype: int64\n",
      "1000\n"
     ]
    }
   ],
   "source": [
    "print(\"Nulls: \")\n",
    "print(df.isnull().sum())\n",
    "print(\"\\nDuplicates: \")\n",
    "print(df.duplicated().sum())\n",
    "print(df['gender'].value_counts())\n",
    "print(df['customer_id'].nunique())\n",
    "\n"
   ]
  },
  {
   "cell_type": "code",
   "execution_count": 9,
   "metadata": {},
   "outputs": [
    {
     "data": {
      "text/html": [
       "<div>\n",
       "<style scoped>\n",
       "    .dataframe tbody tr th:only-of-type {\n",
       "        vertical-align: middle;\n",
       "    }\n",
       "\n",
       "    .dataframe tbody tr th {\n",
       "        vertical-align: top;\n",
       "    }\n",
       "\n",
       "    .dataframe thead th {\n",
       "        text-align: right;\n",
       "    }\n",
       "</style>\n",
       "<table border=\"1\" class=\"dataframe\">\n",
       "  <thead>\n",
       "    <tr style=\"text-align: right;\">\n",
       "      <th></th>\n",
       "      <th>transaction_id</th>\n",
       "      <th>date</th>\n",
       "      <th>order_month</th>\n",
       "      <th>order_year</th>\n",
       "      <th>customer_id</th>\n",
       "      <th>gender</th>\n",
       "      <th>age</th>\n",
       "      <th>product_category</th>\n",
       "      <th>quantity</th>\n",
       "      <th>price_per_unit</th>\n",
       "      <th>total_amount</th>\n",
       "    </tr>\n",
       "  </thead>\n",
       "  <tbody>\n",
       "    <tr>\n",
       "      <th>0</th>\n",
       "      <td>1</td>\n",
       "      <td>2023-11-24</td>\n",
       "      <td>2023-11</td>\n",
       "      <td>2023</td>\n",
       "      <td>CUST001</td>\n",
       "      <td>Male</td>\n",
       "      <td>34</td>\n",
       "      <td>Beauty</td>\n",
       "      <td>3</td>\n",
       "      <td>50</td>\n",
       "      <td>150</td>\n",
       "    </tr>\n",
       "    <tr>\n",
       "      <th>1</th>\n",
       "      <td>2</td>\n",
       "      <td>2023-02-27</td>\n",
       "      <td>2023-02</td>\n",
       "      <td>2023</td>\n",
       "      <td>CUST002</td>\n",
       "      <td>Female</td>\n",
       "      <td>26</td>\n",
       "      <td>Clothing</td>\n",
       "      <td>2</td>\n",
       "      <td>500</td>\n",
       "      <td>1000</td>\n",
       "    </tr>\n",
       "    <tr>\n",
       "      <th>2</th>\n",
       "      <td>3</td>\n",
       "      <td>2023-01-13</td>\n",
       "      <td>2023-01</td>\n",
       "      <td>2023</td>\n",
       "      <td>CUST003</td>\n",
       "      <td>Male</td>\n",
       "      <td>50</td>\n",
       "      <td>Electronics</td>\n",
       "      <td>1</td>\n",
       "      <td>30</td>\n",
       "      <td>30</td>\n",
       "    </tr>\n",
       "    <tr>\n",
       "      <th>3</th>\n",
       "      <td>4</td>\n",
       "      <td>2023-05-21</td>\n",
       "      <td>2023-05</td>\n",
       "      <td>2023</td>\n",
       "      <td>CUST004</td>\n",
       "      <td>Male</td>\n",
       "      <td>37</td>\n",
       "      <td>Clothing</td>\n",
       "      <td>1</td>\n",
       "      <td>500</td>\n",
       "      <td>500</td>\n",
       "    </tr>\n",
       "    <tr>\n",
       "      <th>4</th>\n",
       "      <td>5</td>\n",
       "      <td>2023-05-06</td>\n",
       "      <td>2023-05</td>\n",
       "      <td>2023</td>\n",
       "      <td>CUST005</td>\n",
       "      <td>Male</td>\n",
       "      <td>30</td>\n",
       "      <td>Beauty</td>\n",
       "      <td>2</td>\n",
       "      <td>50</td>\n",
       "      <td>100</td>\n",
       "    </tr>\n",
       "  </tbody>\n",
       "</table>\n",
       "</div>"
      ],
      "text/plain": [
       "   transaction_id       date order_month  order_year customer_id  gender  age product_category  quantity  price_per_unit  total_amount\n",
       "0               1 2023-11-24     2023-11        2023     CUST001    Male   34           Beauty         3              50           150\n",
       "1               2 2023-02-27     2023-02        2023     CUST002  Female   26         Clothing         2             500          1000\n",
       "2               3 2023-01-13     2023-01        2023     CUST003    Male   50      Electronics         1              30            30\n",
       "3               4 2023-05-21     2023-05        2023     CUST004    Male   37         Clothing         1             500           500\n",
       "4               5 2023-05-06     2023-05        2023     CUST005    Male   30           Beauty         2              50           100"
      ]
     },
     "execution_count": 9,
     "metadata": {},
     "output_type": "execute_result"
    }
   ],
   "source": [
    "df['order_month'] = df['date'].dt.to_period('M')\n",
    "df['order_month'] = df['order_month'].astype(str)\n",
    "df['order_year'] = df['date'].dt.year\n",
    "column_order = ['transaction_id', 'date', 'order_month', 'order_year', 'customer_id', \n",
    "                'gender', 'age', 'product_category', 'quantity', 'price_per_unit', 'total_amount']\n",
    "df = df.reindex(columns=column_order)\n",
    "\n",
    "df.head()"
   ]
  },
  {
   "cell_type": "code",
   "execution_count": 10,
   "metadata": {},
   "outputs": [],
   "source": [
    "df.to_csv('cleaned_retail_sales.csv', index=False)"
   ]
  },
  {
   "cell_type": "code",
   "execution_count": 14,
   "metadata": {},
   "outputs": [
    {
     "name": "stdout",
     "output_type": "stream",
     "text": [
      "Requirement already satisfied: sqlalchemy in c:\\users\\swais\\appdata\\local\\programs\\python\\python313\\lib\\site-packages (2.0.37)\n",
      "Requirement already satisfied: pyodbc in c:\\users\\swais\\appdata\\local\\programs\\python\\python313\\lib\\site-packages (5.2.0)\n",
      "Requirement already satisfied: greenlet!=0.4.17 in c:\\users\\swais\\appdata\\local\\programs\\python\\python313\\lib\\site-packages (from sqlalchemy) (3.1.1)\n",
      "Requirement already satisfied: typing-extensions>=4.6.0 in c:\\users\\swais\\appdata\\local\\programs\\python\\python313\\lib\\site-packages (from sqlalchemy) (4.12.2)\n",
      "Note: you may need to restart the kernel to use updated packages.\n"
     ]
    }
   ],
   "source": [
    "%pip install sqlalchemy pyodbc\n"
   ]
  },
  {
   "cell_type": "markdown",
   "metadata": {},
   "source": [
    "Load the data onto the database"
   ]
  },
  {
   "cell_type": "code",
   "execution_count": 12,
   "metadata": {},
   "outputs": [
    {
     "name": "stdout",
     "output_type": "stream",
     "text": [
      "Connection is open\n"
     ]
    }
   ],
   "source": [
    "import sqlalchemy as sql \n",
    "\n",
    "engine = sql.create_engine(\"mssql+pyodbc://Jules\\\\SQLEXPRESS/retail_sales_data?driver=ODBC+Driver+17+for+SQL+Server\")\n",
    "conn = engine.connect()\n",
    "\n",
    "if conn.closed:\n",
    "    print(\"Connection is closed\")\n",
    "else:\n",
    "    print(\"Connection is open\")\n",
    "\n"
   ]
  },
  {
   "cell_type": "code",
   "execution_count": 13,
   "metadata": {},
   "outputs": [
    {
     "data": {
      "text/plain": [
       "50"
      ]
     },
     "execution_count": 13,
     "metadata": {},
     "output_type": "execute_result"
    }
   ],
   "source": [
    "df.to_sql('sales_data', con=conn, if_exists='replace', index=False)"
   ]
  }
 ],
 "metadata": {
  "kernelspec": {
   "display_name": "Python 3",
   "language": "python",
   "name": "python3"
  },
  "language_info": {
   "codemirror_mode": {
    "name": "ipython",
    "version": 3
   },
   "file_extension": ".py",
   "mimetype": "text/x-python",
   "name": "python",
   "nbconvert_exporter": "python",
   "pygments_lexer": "ipython3",
   "version": "3.13.1"
  }
 },
 "nbformat": 4,
 "nbformat_minor": 2
}
